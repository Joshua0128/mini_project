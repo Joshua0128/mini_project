{
 "cells": [
  {
   "cell_type": "markdown",
   "id": "5d75b52f-fdb7-4922-ac67-a198ad7a9bf7",
   "metadata": {},
   "source": [
    "# Mini-Project"
   ]
  },
  {
   "cell_type": "markdown",
   "id": "c5594230-4c55-4e46-8a6a-a29fc58920cf",
   "metadata": {},
   "source": [
    "1. Parse data from the funnow\n",
    "2. Use different model to fit it \n",
    "3. Deploy model on the server"
   ]
  },
  {
   "cell_type": "code",
   "execution_count": null,
   "id": "db7758d9-8823-433f-8a7e-372c4aa3332f",
   "metadata": {},
   "outputs": [],
   "source": []
  }
 ],
 "metadata": {
  "kernelspec": {
   "display_name": "Python 3",
   "language": "python",
   "name": "python3"
  },
  "language_info": {
   "codemirror_mode": {
    "name": "ipython",
    "version": 3
   },
   "file_extension": ".py",
   "mimetype": "text/x-python",
   "name": "python",
   "nbconvert_exporter": "python",
   "pygments_lexer": "ipython3",
   "version": "3.8.13"
  }
 },
 "nbformat": 4,
 "nbformat_minor": 5
}
