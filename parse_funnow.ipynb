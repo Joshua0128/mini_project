{
 "cells": [
  {
   "cell_type": "code",
   "execution_count": 106,
   "metadata": {},
   "outputs": [],
   "source": [
    "cd import requests\n",
    "import shutil\n",
    "import re\n",
    "from random import randint\n",
    "from time import sleep\n",
    "from tqdm import tqdm\n",
    "import json\n",
    "from bs4 import BeautifulSoup"
   ]
  },
  {
   "cell_type": "code",
   "execution_count": 107,
   "metadata": {},
   "outputs": [],
   "source": [
    "base = \"https://www.myfunnow.com/zh-tw/branches/897\"\n",
    "# base = \"https://www.myfunnow.com/zh-tw/products/3147537625982\""
   ]
  },
  {
   "cell_type": "code",
   "execution_count": 108,
   "metadata": {},
   "outputs": [],
   "source": [
    "main_page = requests.get(base)\n",
    "main = BeautifulSoup(main_page.text, 'html.parser')"
   ]
  },
  {
   "cell_type": "code",
   "execution_count": 109,
   "metadata": {},
   "outputs": [
    {
     "data": {
      "text/plain": [
       "'台北市大同區南京西路163號'"
      ]
     },
     "execution_count": 109,
     "metadata": {},
     "output_type": "execute_result"
    }
   ],
   "source": [
    "address = main.find(\"p\", 'branch-address').text\n",
    "address"
   ]
  },
  {
   "cell_type": "code",
   "execution_count": 115,
   "metadata": {},
   "outputs": [],
   "source": [
    "def parse_branches(base):\n",
    "    store_info = {}\n",
    "    \n",
    "    main_page = requests.get(base)\n",
    "    main = BeautifulSoup(main_page.text, 'html.parser')\n",
    "    \n",
    "    title = main.title.text\n",
    "    \n",
    "    print('\\r' + title, end='', flush=True)\n",
    "    \n",
    "    if title == \"404 Not Found\":\n",
    "        return title, -1\n",
    "    else:\n",
    "        store_info[\"url\"] = base\n",
    "        store_info[\"title\"] = title\n",
    "        address = main.find(\"p\", 'branch-address').text\n",
    "        store_info[\"address\"] = address\n",
    "        meta = main.find_all('meta')\n",
    "        for tag in meta:\n",
    "            if 'name' in tag.attrs.keys() and tag.attrs['name'].strip().lower() == \"description\":\n",
    "                store_info[\"description\"] = tag.attrs['content']\n",
    "\n",
    "            if 'name' in tag.attrs.keys() and tag.attrs['name'].strip().lower() == \"keywords\":\n",
    "                store_info[\"keywords\"] = tag.attrs['content']\n",
    "\n",
    "        return title, store_info"
   ]
  },
  {
   "cell_type": "code",
   "execution_count": null,
   "metadata": {},
   "outputs": [
    {
     "name": "stdout",
     "output_type": "stream",
     "text": [
      "3232/10000 = 404 Not Foundine - Balakong | FunNow - 線上即時預訂餐廳、住宿 、按摩住宿 、按摩、住宿 、按摩、按摩、按摩FunNow - 線上即時預訂餐廳、住宿 、按摩"
     ]
    }
   ],
   "source": [
    "stores = []\n",
    "\n",
    "for i in range(10000):\n",
    "    base_url = \"https://www.myfunnow.com/zh-tw/branches/\" + str(i)\n",
    "    title, store_info = parse_branches(base_url)\n",
    "\n",
    "    print('\\r' + f\"{i}/10000 = {title}\", end='', flush=True)\n",
    "    \n",
    "    if title != \"404 Not Found\":\n",
    "        stores.append(store_info)\n",
    "    \n",
    "    if (i+1) % 100 == 0:\n",
    "        with open('./stores.json', 'w', encoding='utf-8') as f:\n",
    "            json.dump(stores, f, ensure_ascii=False, indent=4)"
   ]
  },
  {
   "cell_type": "code",
   "execution_count": null,
   "metadata": {},
   "outputs": [],
   "source": []
  }
 ],
 "metadata": {
  "interpreter": {
   "hash": "94b5936eb2e8173bbe50eb829a3a2adee16ab631aea00e798effe5be049be5dd"
  },
  "kernelspec": {
   "display_name": "Python 3",
   "language": "python",
   "name": "python3"
  },
  "language_info": {
   "codemirror_mode": {
    "name": "ipython",
    "version": 3
   },
   "file_extension": ".py",
   "mimetype": "text/x-python",
   "name": "python",
   "nbconvert_exporter": "python",
   "pygments_lexer": "ipython3",
   "version": "3.8.13"
  }
 },
 "nbformat": 4,
 "nbformat_minor": 4
}
