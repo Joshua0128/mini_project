{
 "cells": [
  {
   "cell_type": "code",
   "execution_count": 4,
   "id": "84d34659-1a26-435e-8dc5-26bb2d68c53f",
   "metadata": {},
   "outputs": [],
   "source": [
    "import selenium\n",
    "import requests"
   ]
  },
  {
   "cell_type": "code",
   "execution_count": null,
   "id": "f40a50f1-1e6e-4841-bb5d-27a1ebf98330",
   "metadata": {},
   "outputs": [],
   "source": []
  }
 ],
 "metadata": {
  "kernelspec": {
   "display_name": "Python 3",
   "language": "python",
   "name": "python3"
  },
  "language_info": {
   "codemirror_mode": {
    "name": "ipython",
    "version": 3
   },
   "file_extension": ".py",
   "mimetype": "text/x-python",
   "name": "python",
   "nbconvert_exporter": "python",
   "pygments_lexer": "ipython3",
   "version": "3.8.13"
  }
 },
 "nbformat": 4,
 "nbformat_minor": 5
}
